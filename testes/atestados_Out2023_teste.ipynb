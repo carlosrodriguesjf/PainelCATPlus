{
 "cells": [
  {
   "cell_type": "code",
   "execution_count": 3,
   "metadata": {},
   "outputs": [
    {
     "name": "stdout",
     "output_type": "stream",
     "text": [
      "PAINEL\n",
      "Aprov. de estudos\n",
      "Atestado, Declaração ou Certidã\n",
      "Cancelamento de matrícula\n",
      "Correção ou Alter. de Dados Cad\n",
      "Data Especial de Col. de Grau\n",
      "Ementas\n",
      "Histórico Escolar\n",
      "2ª Via Diploma de Grad.\n",
      "2ª Via DiplomaCertif. de Pós-Gr\n",
      "Trancamento\n",
      "Reintegração\n",
      "Nome Social\n",
      "Restituição de taxa\n",
      "Transferência(ex-officio)\n",
      "Dilatação de curso\n",
      "Disciplina Isolada\n",
      "Outros\n",
      "Nova Graduação na mesma ABI\n",
      "Ingresso de Refugiados\n",
      "Auxiliar\n",
      "Urgência diploma digital\n"
     ]
    }
   ],
   "source": [
    "import pandas as pd\n",
    "\n",
    "# Especifique o caminho para o arquivo Excel\n",
    "excel_file_path = r'E:\\CentralDeAtendimento\\Projetos\\PainelCATPlus\\arquivos_apoio\\Distribuição de Demandas - Out2023.xlsx'\n",
    "\n",
    "# Use a função read_excel para ler o arquivo Excel\n",
    "xls = pd.ExcelFile(excel_file_path)\n",
    "\n",
    "# Obtenha a lista de nomes de planilhas no arquivo\n",
    "sheet_names = xls.sheet_names\n",
    "\n",
    "# Itere pelas planilhas e carregue cada uma em um DataFrame do pandas\n",
    "data = {}  # Dicionário para armazenar DataFrames de cada planilha\n",
    "\n",
    "for sheet_name in sheet_names:\n",
    "    data[sheet_name] = xls.parse(sheet_name)\n",
    "    print(sheet_name)\n",
    "\n",
    "# Agora você tem cada planilha em um DataFrame separado no dicionário 'data'\n",
    "# Você pode acessar cada planilha pelo seu nome, por exemplo: data['NomeDaPlanilha']\n",
    "\n"
   ]
  },
  {
   "cell_type": "code",
   "execution_count": 4,
   "metadata": {},
   "outputs": [],
   "source": [
    "df_atestados = data['Atestado, Declaração ou Certidã']\n",
    "\n",
    "# Transforma a primeira linha em cabeçalho\n",
    "df_atestados.columns = df_atestados.iloc[0]\n",
    "\n",
    "# Remove a primeira linha (opcional)\n",
    "df_atestados= df_atestados[1:]\n",
    "\n",
    "df_atestados.columns\n",
    "\n",
    "df_atestados = df_atestados[['ATRIBUÍDO PARA','STATUS','SETOR','DATA PROTOCOLO']]\n",
    "\n",
    "df_atestados.rename(columns={'ATRIBUÍDO PARA':'nome_operador','STATUS':'status','SETOR':'setor','DATA PROTOCOLO':'data_protocolo'},inplace=True)"
   ]
  },
  {
   "cell_type": "code",
   "execution_count": 5,
   "metadata": {},
   "outputs": [
    {
     "data": {
      "text/plain": [
       "Index(['nome_operador', 'status', 'setor', 'data_protocolo'], dtype='object', name=0)"
      ]
     },
     "execution_count": 5,
     "metadata": {},
     "output_type": "execute_result"
    }
   ],
   "source": [
    "df_atestados.columns"
   ]
  },
  {
   "cell_type": "code",
   "execution_count": 7,
   "metadata": {},
   "outputs": [],
   "source": [
    "df_atestados['data_protocolo'] = df_atestados['data_protocolo'].astype(str)"
   ]
  },
  {
   "cell_type": "code",
   "execution_count": 8,
   "metadata": {},
   "outputs": [
    {
     "data": {
      "text/html": [
       "<div>\n",
       "<style scoped>\n",
       "    .dataframe tbody tr th:only-of-type {\n",
       "        vertical-align: middle;\n",
       "    }\n",
       "\n",
       "    .dataframe tbody tr th {\n",
       "        vertical-align: top;\n",
       "    }\n",
       "\n",
       "    .dataframe thead th {\n",
       "        text-align: right;\n",
       "    }\n",
       "</style>\n",
       "<table border=\"1\" class=\"dataframe\">\n",
       "  <thead>\n",
       "    <tr style=\"text-align: right;\">\n",
       "      <th></th>\n",
       "      <th>nome_operador</th>\n",
       "      <th>status</th>\n",
       "      <th>setor</th>\n",
       "      <th>data_protocolo</th>\n",
       "    </tr>\n",
       "  </thead>\n",
       "  <tbody>\n",
       "    <tr>\n",
       "      <th>1</th>\n",
       "      <td>NaN</td>\n",
       "      <td>NaN</td>\n",
       "      <td>NaN</td>\n",
       "      <td>nan</td>\n",
       "    </tr>\n",
       "    <tr>\n",
       "      <th>2</th>\n",
       "      <td>RENATA</td>\n",
       "      <td>PROTOCOLADO</td>\n",
       "      <td>SGLA</td>\n",
       "      <td>2023-10-02</td>\n",
       "    </tr>\n",
       "    <tr>\n",
       "      <th>3</th>\n",
       "      <td>RENATA</td>\n",
       "      <td>PROTOCOLADO</td>\n",
       "      <td>SGLA</td>\n",
       "      <td>2023-10-02</td>\n",
       "    </tr>\n",
       "    <tr>\n",
       "      <th>4</th>\n",
       "      <td>ANA CRISTINA</td>\n",
       "      <td>PROTOCOLADO</td>\n",
       "      <td>SGLA</td>\n",
       "      <td>2023-10-02</td>\n",
       "    </tr>\n",
       "    <tr>\n",
       "      <th>5</th>\n",
       "      <td>ANA CRISTINA</td>\n",
       "      <td>PROTOCOLADO</td>\n",
       "      <td>SGLA</td>\n",
       "      <td>2023-10-02</td>\n",
       "    </tr>\n",
       "    <tr>\n",
       "      <th>...</th>\n",
       "      <td>...</td>\n",
       "      <td>...</td>\n",
       "      <td>...</td>\n",
       "      <td>...</td>\n",
       "    </tr>\n",
       "    <tr>\n",
       "      <th>1666</th>\n",
       "      <td>NaN</td>\n",
       "      <td>NaN</td>\n",
       "      <td>NaN</td>\n",
       "      <td>nan</td>\n",
       "    </tr>\n",
       "    <tr>\n",
       "      <th>1667</th>\n",
       "      <td>NaN</td>\n",
       "      <td>NaN</td>\n",
       "      <td>NaN</td>\n",
       "      <td>nan</td>\n",
       "    </tr>\n",
       "    <tr>\n",
       "      <th>1668</th>\n",
       "      <td>NaN</td>\n",
       "      <td>NaN</td>\n",
       "      <td>NaN</td>\n",
       "      <td>nan</td>\n",
       "    </tr>\n",
       "    <tr>\n",
       "      <th>1669</th>\n",
       "      <td>NaN</td>\n",
       "      <td>NaN</td>\n",
       "      <td>NaN</td>\n",
       "      <td>nan</td>\n",
       "    </tr>\n",
       "    <tr>\n",
       "      <th>1670</th>\n",
       "      <td>NaN</td>\n",
       "      <td>NaN</td>\n",
       "      <td>NaN</td>\n",
       "      <td>nan</td>\n",
       "    </tr>\n",
       "  </tbody>\n",
       "</table>\n",
       "<p>1670 rows × 4 columns</p>\n",
       "</div>"
      ],
      "text/plain": [
       "0    nome_operador       status setor data_protocolo\n",
       "1              NaN          NaN   NaN            nan\n",
       "2           RENATA  PROTOCOLADO  SGLA     2023-10-02\n",
       "3           RENATA  PROTOCOLADO  SGLA     2023-10-02\n",
       "4     ANA CRISTINA  PROTOCOLADO  SGLA     2023-10-02\n",
       "5     ANA CRISTINA  PROTOCOLADO  SGLA     2023-10-02\n",
       "...            ...          ...   ...            ...\n",
       "1666           NaN          NaN   NaN            nan\n",
       "1667           NaN          NaN   NaN            nan\n",
       "1668           NaN          NaN   NaN            nan\n",
       "1669           NaN          NaN   NaN            nan\n",
       "1670           NaN          NaN   NaN            nan\n",
       "\n",
       "[1670 rows x 4 columns]"
      ]
     },
     "execution_count": 8,
     "metadata": {},
     "output_type": "execute_result"
    }
   ],
   "source": [
    "def separa_data(data_protocolo):\n",
    "    return data_protocolo.split(' ')[0]\n",
    "\n",
    "\n",
    "df_atestados.data_protocolo = df_atestados.data_protocolo.apply(separa_data)\n",
    "\n",
    "df_atestados"
   ]
  },
  {
   "cell_type": "code",
   "execution_count": 9,
   "metadata": {},
   "outputs": [
    {
     "data": {
      "text/plain": [
       "array(['nan', '2023-10-02', '2023-10-03', '2023-10-04', '2023-10-05',\n",
       "       '2023-10-06', '2023-10-09', '2023-10-19', '2023-10-10',\n",
       "       '2023-09-10', '2023-10-11', '2023-10-16', '2023-10-17',\n",
       "       '2023-10-18', '2023-10-20', '2023-10-23', '2023-10-24',\n",
       "       '2023-10-25', '2023-10-26', '2023-10-27', '2023-10-31',\n",
       "       '2023-11-01', '2023-11-06', '2023-11-09', '2023-11-10',\n",
       "       '2023-11-13', '2023-11-14', '2023-11-16', '2023-11-17'],\n",
       "      dtype=object)"
      ]
     },
     "execution_count": 9,
     "metadata": {},
     "output_type": "execute_result"
    }
   ],
   "source": [
    "df_atestados['data_protocolo'].unique()"
   ]
  },
  {
   "cell_type": "code",
   "execution_count": 10,
   "metadata": {},
   "outputs": [
    {
     "data": {
      "text/plain": [
       "146"
      ]
     },
     "execution_count": 10,
     "metadata": {},
     "output_type": "execute_result"
    }
   ],
   "source": [
    "df_atestados.dropna(inplace=True)\n",
    "\n",
    "len(df_atestados['nome_operador'])\n"
   ]
  },
  {
   "cell_type": "code",
   "execution_count": 11,
   "metadata": {},
   "outputs": [
    {
     "data": {
      "text/html": [
       "<div>\n",
       "<style scoped>\n",
       "    .dataframe tbody tr th:only-of-type {\n",
       "        vertical-align: middle;\n",
       "    }\n",
       "\n",
       "    .dataframe tbody tr th {\n",
       "        vertical-align: top;\n",
       "    }\n",
       "\n",
       "    .dataframe thead th {\n",
       "        text-align: right;\n",
       "    }\n",
       "</style>\n",
       "<table border=\"1\" class=\"dataframe\">\n",
       "  <thead>\n",
       "    <tr style=\"text-align: right;\">\n",
       "      <th></th>\n",
       "      <th>nome_operador</th>\n",
       "      <th>status</th>\n",
       "      <th>setor</th>\n",
       "      <th>data_protocolo</th>\n",
       "    </tr>\n",
       "  </thead>\n",
       "  <tbody>\n",
       "    <tr>\n",
       "      <th>2</th>\n",
       "      <td>RENATA</td>\n",
       "      <td>PROTOCOLADO</td>\n",
       "      <td>SGLA</td>\n",
       "      <td>2023-10-02</td>\n",
       "    </tr>\n",
       "    <tr>\n",
       "      <th>3</th>\n",
       "      <td>RENATA</td>\n",
       "      <td>PROTOCOLADO</td>\n",
       "      <td>SGLA</td>\n",
       "      <td>2023-10-02</td>\n",
       "    </tr>\n",
       "    <tr>\n",
       "      <th>4</th>\n",
       "      <td>ANA CRISTINA</td>\n",
       "      <td>PROTOCOLADO</td>\n",
       "      <td>SGLA</td>\n",
       "      <td>2023-10-02</td>\n",
       "    </tr>\n",
       "    <tr>\n",
       "      <th>5</th>\n",
       "      <td>ANA CRISTINA</td>\n",
       "      <td>PROTOCOLADO</td>\n",
       "      <td>SGLA</td>\n",
       "      <td>2023-10-02</td>\n",
       "    </tr>\n",
       "    <tr>\n",
       "      <th>6</th>\n",
       "      <td>RENATA</td>\n",
       "      <td>PROTOCOLADO</td>\n",
       "      <td>SGLA</td>\n",
       "      <td>2023-10-02</td>\n",
       "    </tr>\n",
       "  </tbody>\n",
       "</table>\n",
       "</div>"
      ],
      "text/plain": [
       "0 nome_operador       status setor data_protocolo\n",
       "2        RENATA  PROTOCOLADO  SGLA     2023-10-02\n",
       "3        RENATA  PROTOCOLADO  SGLA     2023-10-02\n",
       "4  ANA CRISTINA  PROTOCOLADO  SGLA     2023-10-02\n",
       "5  ANA CRISTINA  PROTOCOLADO  SGLA     2023-10-02\n",
       "6        RENATA  PROTOCOLADO  SGLA     2023-10-02"
      ]
     },
     "execution_count": 11,
     "metadata": {},
     "output_type": "execute_result"
    }
   ],
   "source": [
    "df_atestados.head()"
   ]
  }
 ],
 "metadata": {
  "kernelspec": {
   "display_name": "Python 3",
   "language": "python",
   "name": "python3"
  },
  "language_info": {
   "codemirror_mode": {
    "name": "ipython",
    "version": 3
   },
   "file_extension": ".py",
   "mimetype": "text/x-python",
   "name": "python",
   "nbconvert_exporter": "python",
   "pygments_lexer": "ipython3",
   "version": "3.9.13"
  }
 },
 "nbformat": 4,
 "nbformat_minor": 2
}
