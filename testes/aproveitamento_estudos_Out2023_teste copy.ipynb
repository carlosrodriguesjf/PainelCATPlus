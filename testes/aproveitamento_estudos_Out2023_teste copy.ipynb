{
 "cells": [
  {
   "cell_type": "code",
   "execution_count": null,
   "metadata": {},
   "outputs": [],
   "source": [
    "import pandas as pd\n",
    "\n",
    "# Especifique o caminho para o arquivo Excel\n",
    "excel_file_path = r'E:\\CentralDeAtendimento\\Projetos\\PainelCATPlus\\arquivos_apoio\\Distribuição de Demandas - Out2023.xlsx'\n",
    "\n",
    "# Use a função read_excel para ler o arquivo Excel\n",
    "xls = pd.ExcelFile(excel_file_path)\n",
    "\n",
    "# Obtenha a lista de nomes de planilhas no arquivo\n",
    "sheet_names = xls.sheet_names\n",
    "\n",
    "# Itere pelas planilhas e carregue cada uma em um DataFrame do pandas\n",
    "data = {}  # Dicionário para armazenar DataFrames de cada planilha\n",
    "\n",
    "for sheet_name in sheet_names:\n",
    "    data[sheet_name] = xls.parse(sheet_name)\n",
    "\n",
    "# Agora você tem cada planilha em um DataFrame separado no dicionário 'data'\n",
    "# Você pode acessar cada planilha pelo seu nome, por exemplo: data['NomeDaPlanilha']\n"
   ]
  },
  {
   "cell_type": "code",
   "execution_count": null,
   "metadata": {},
   "outputs": [],
   "source": [
    "df_aprov_estudos = data['Aprov. de estudos']\n",
    "\n",
    "# Transforma a primeira linha em cabeçalho\n",
    "df_aprov_estudos.columns = df_aprov_estudos.iloc[0]\n",
    "\n",
    "# Remove a primeira linha (opcional)\n",
    "df_aprov_estudos= df_aprov_estudos[1:]\n",
    "\n",
    "df_aprov_estudos.columns\n",
    "\n",
    "df_aprov_estudos = df_aprov_estudos[['ATRIBUÍDO PARA','STATUS','SETOR','DATA PROTOCOLO']]\n",
    "\n",
    "df_aprov_estudos.rename(columns={'ATRIBUÍDO PARA':'nome_operador','STATUS':'status','SETOR':'setor','DATA PROTOCOLO':'data_protocolo'},inplace=True)"
   ]
  },
  {
   "cell_type": "code",
   "execution_count": null,
   "metadata": {},
   "outputs": [],
   "source": [
    "df_aprov_estudos.columns"
   ]
  },
  {
   "cell_type": "code",
   "execution_count": null,
   "metadata": {},
   "outputs": [],
   "source": [
    "df_aprov_estudos = df_aprov_estudos[['ATRIBUÍDO PARA','STATUS','SETOR','DATA PROTOCOLO']]\n",
    "df_aprov_estudos"
   ]
  },
  {
   "cell_type": "code",
   "execution_count": null,
   "metadata": {},
   "outputs": [],
   "source": [
    "df_aprov_estudos.rename(columns={'ATRIBUÍDO PARA':'nome_operador','STATUS':'status','SETOR':'setor','DATA PROTOCOLO':'data_protocolo'},inplace=True)\n",
    "df_aprov_estudos"
   ]
  },
  {
   "cell_type": "code",
   "execution_count": null,
   "metadata": {},
   "outputs": [],
   "source": [
    "df_aprov_estudos['data_protocolo'] = df_aprov_estudos['data_protocolo'].astype(str)"
   ]
  },
  {
   "cell_type": "code",
   "execution_count": null,
   "metadata": {},
   "outputs": [],
   "source": [
    "def separa_data(data_protocolo):\n",
    "    return data_protocolo.split(' ')[0]\n",
    "\n",
    "\n",
    "df_aprov_estudos.data_protocolo = df_aprov_estudos.data_protocolo.apply(separa_data)\n",
    "\n",
    "df_aprov_estudos"
   ]
  },
  {
   "cell_type": "code",
   "execution_count": null,
   "metadata": {},
   "outputs": [],
   "source": [
    "df_aprov_estudos['data_protocolo'].unique()"
   ]
  },
  {
   "cell_type": "code",
   "execution_count": null,
   "metadata": {},
   "outputs": [],
   "source": [
    "df_aprov_estudos.dropna(inplace=True)\n",
    "df_aprov_estudos.head()\n",
    "len(df_aprov_estudos['nome_operador'])\n"
   ]
  }
 ],
 "metadata": {
  "kernelspec": {
   "display_name": "Python 3",
   "language": "python",
   "name": "python3"
  },
  "language_info": {
   "codemirror_mode": {
    "name": "ipython",
    "version": 3
   },
   "file_extension": ".py",
   "mimetype": "text/x-python",
   "name": "python",
   "nbconvert_exporter": "python",
   "pygments_lexer": "ipython3",
   "version": "3.9.13"
  }
 },
 "nbformat": 4,
 "nbformat_minor": 2
}
