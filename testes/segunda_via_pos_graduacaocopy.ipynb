{
 "cells": [
  {
   "cell_type": "code",
   "execution_count": 1,
   "metadata": {},
   "outputs": [
    {
     "name": "stdout",
     "output_type": "stream",
     "text": [
      "PAINEL\n",
      "Aprov. de estudos\n",
      "Atestado, Declaração ou Certidã\n",
      "Cancelamento de matrícula\n",
      "Correção ou Alter. de Dados Cad\n",
      "Data Especial de Col. de Grau\n",
      "Ementas\n",
      "Histórico Escolar\n",
      "2ª Via Diploma de Grad.\n",
      "2ª Via DiplomaCertif. de Pós-Gr\n",
      "Trancamento\n",
      "Reintegração\n",
      "Nome Social\n",
      "Restituição de taxa\n",
      "Transferência(ex-officio)\n",
      "Dilatação de curso\n",
      "Disciplina Isolada\n",
      "Outros\n",
      "Nova Graduação na mesma ABI\n",
      "Ingresso de Refugiados\n",
      "Auxiliar\n",
      "Urgência diploma digital\n"
     ]
    }
   ],
   "source": [
    "import pandas as pd\n",
    "\n",
    "# Especifique o caminho para o arquivo Excel\n",
    "excel_file_path = r'E:\\CentralDeAtendimento\\Projetos\\PainelCATPlus\\arquivos_apoio\\Distribuição de Demandas - Out2023.xlsx'\n",
    "\n",
    "# Use a função read_excel para ler o arquivo Excel\n",
    "xls = pd.ExcelFile(excel_file_path)\n",
    "\n",
    "# Obtenha a lista de nomes de planilhas no arquivo\n",
    "sheet_names = xls.sheet_names\n",
    "\n",
    "# Itere pelas planilhas e carregue cada uma em um DataFrame do pandas\n",
    "data = {}  # Dicionário para armazenar DataFrames de cada planilha\n",
    "\n",
    "for sheet_name in sheet_names:\n",
    "    data[sheet_name] = xls.parse(sheet_name)\n",
    "    print(sheet_name)\n",
    "\n",
    "# Agora você tem cada planilha em um DataFrame separado no dicionário 'data'\n",
    "# Você pode acessar cada planilha pelo seu nome, por exemplo: data['NomeDaPlanilha']\n",
    "\n"
   ]
  },
  {
   "cell_type": "code",
   "execution_count": 2,
   "metadata": {},
   "outputs": [],
   "source": [
    "df_segunda_via_pos_graduacao = data['2ª Via DiplomaCertif. de Pós-Gr']\n",
    "\n",
    "# Transforma a primeira linha em cabeçalho\n",
    "df_segunda_via_pos_graduacao.columns = df_segunda_via_pos_graduacao.iloc[0]\n",
    "\n",
    "# Remove a primeira linha (opcional)\n",
    "df_segunda_via_pos_graduacao= df_segunda_via_pos_graduacao[1:]\n",
    "\n",
    "df_segunda_via_pos_graduacao.columns\n",
    "\n",
    "df_segunda_via_pos_graduacao = df_segunda_via_pos_graduacao[['ATRIBUÍDO PARA','STATUS','SETOR','DATA PROTOCOLO']]\n",
    "\n",
    "df_segunda_via_pos_graduacao.rename(columns={'ATRIBUÍDO PARA':'nome_operador','STATUS':'status','SETOR':'setor','DATA PROTOCOLO':'data_protocolo'},inplace=True)"
   ]
  },
  {
   "cell_type": "code",
   "execution_count": 3,
   "metadata": {},
   "outputs": [
    {
     "data": {
      "text/plain": [
       "Index(['nome_operador', 'status', 'setor', 'data_protocolo'], dtype='object', name=0)"
      ]
     },
     "execution_count": 3,
     "metadata": {},
     "output_type": "execute_result"
    }
   ],
   "source": [
    "df_segunda_via_pos_graduacao.columns"
   ]
  },
  {
   "cell_type": "code",
   "execution_count": 4,
   "metadata": {},
   "outputs": [],
   "source": [
    "df_segunda_via_pos_graduacao['data_protocolo'] = df_segunda_via_pos_graduacao['data_protocolo'].astype(str)"
   ]
  },
  {
   "cell_type": "code",
   "execution_count": 5,
   "metadata": {},
   "outputs": [
    {
     "data": {
      "text/html": [
       "<div>\n",
       "<style scoped>\n",
       "    .dataframe tbody tr th:only-of-type {\n",
       "        vertical-align: middle;\n",
       "    }\n",
       "\n",
       "    .dataframe tbody tr th {\n",
       "        vertical-align: top;\n",
       "    }\n",
       "\n",
       "    .dataframe thead th {\n",
       "        text-align: right;\n",
       "    }\n",
       "</style>\n",
       "<table border=\"1\" class=\"dataframe\">\n",
       "  <thead>\n",
       "    <tr style=\"text-align: right;\">\n",
       "      <th></th>\n",
       "      <th>nome_operador</th>\n",
       "      <th>status</th>\n",
       "      <th>setor</th>\n",
       "      <th>data_protocolo</th>\n",
       "    </tr>\n",
       "  </thead>\n",
       "  <tbody>\n",
       "    <tr>\n",
       "      <th>1</th>\n",
       "      <td>ANA CRISTINA</td>\n",
       "      <td>PROTOCOLADO</td>\n",
       "      <td>GMCA - Pós-Graduação</td>\n",
       "      <td>2023-10-09</td>\n",
       "    </tr>\n",
       "    <tr>\n",
       "      <th>2</th>\n",
       "      <td>CARLOS</td>\n",
       "      <td>CANCELADO</td>\n",
       "      <td>NaN</td>\n",
       "      <td>nan</td>\n",
       "    </tr>\n",
       "    <tr>\n",
       "      <th>3</th>\n",
       "      <td>CARLOS</td>\n",
       "      <td>CANCELADO</td>\n",
       "      <td>NaN</td>\n",
       "      <td>nan</td>\n",
       "    </tr>\n",
       "    <tr>\n",
       "      <th>4</th>\n",
       "      <td>CARLOS</td>\n",
       "      <td>CANCELADO</td>\n",
       "      <td>NaN</td>\n",
       "      <td>nan</td>\n",
       "    </tr>\n",
       "    <tr>\n",
       "      <th>5</th>\n",
       "      <td>CARLOS</td>\n",
       "      <td>CANCELADO</td>\n",
       "      <td>NaN</td>\n",
       "      <td>nan</td>\n",
       "    </tr>\n",
       "    <tr>\n",
       "      <th>...</th>\n",
       "      <td>...</td>\n",
       "      <td>...</td>\n",
       "      <td>...</td>\n",
       "      <td>...</td>\n",
       "    </tr>\n",
       "    <tr>\n",
       "      <th>1094</th>\n",
       "      <td>NaN</td>\n",
       "      <td>NaN</td>\n",
       "      <td>NaN</td>\n",
       "      <td>nan</td>\n",
       "    </tr>\n",
       "    <tr>\n",
       "      <th>1095</th>\n",
       "      <td>NaN</td>\n",
       "      <td>NaN</td>\n",
       "      <td>NaN</td>\n",
       "      <td>nan</td>\n",
       "    </tr>\n",
       "    <tr>\n",
       "      <th>1096</th>\n",
       "      <td>NaN</td>\n",
       "      <td>NaN</td>\n",
       "      <td>NaN</td>\n",
       "      <td>nan</td>\n",
       "    </tr>\n",
       "    <tr>\n",
       "      <th>1097</th>\n",
       "      <td>NaN</td>\n",
       "      <td>NaN</td>\n",
       "      <td>NaN</td>\n",
       "      <td>nan</td>\n",
       "    </tr>\n",
       "    <tr>\n",
       "      <th>1098</th>\n",
       "      <td>NaN</td>\n",
       "      <td>NaN</td>\n",
       "      <td>NaN</td>\n",
       "      <td>nan</td>\n",
       "    </tr>\n",
       "  </tbody>\n",
       "</table>\n",
       "<p>1098 rows × 4 columns</p>\n",
       "</div>"
      ],
      "text/plain": [
       "0    nome_operador       status                 setor data_protocolo\n",
       "1     ANA CRISTINA  PROTOCOLADO  GMCA - Pós-Graduação     2023-10-09\n",
       "2           CARLOS    CANCELADO                   NaN            nan\n",
       "3           CARLOS    CANCELADO                   NaN            nan\n",
       "4           CARLOS    CANCELADO                   NaN            nan\n",
       "5           CARLOS    CANCELADO                   NaN            nan\n",
       "...            ...          ...                   ...            ...\n",
       "1094           NaN          NaN                   NaN            nan\n",
       "1095           NaN          NaN                   NaN            nan\n",
       "1096           NaN          NaN                   NaN            nan\n",
       "1097           NaN          NaN                   NaN            nan\n",
       "1098           NaN          NaN                   NaN            nan\n",
       "\n",
       "[1098 rows x 4 columns]"
      ]
     },
     "execution_count": 5,
     "metadata": {},
     "output_type": "execute_result"
    }
   ],
   "source": [
    "def separa_data(data_protocolo):\n",
    "    return data_protocolo.split(' ')[0]\n",
    "\n",
    "\n",
    "df_segunda_via_pos_graduacao.data_protocolo = df_segunda_via_pos_graduacao.data_protocolo.apply(separa_data)\n",
    "\n",
    "df_segunda_via_pos_graduacao"
   ]
  },
  {
   "cell_type": "code",
   "execution_count": 6,
   "metadata": {},
   "outputs": [
    {
     "data": {
      "text/plain": [
       "array(['2023-10-09', 'nan', '2023-10-30'], dtype=object)"
      ]
     },
     "execution_count": 6,
     "metadata": {},
     "output_type": "execute_result"
    }
   ],
   "source": [
    "df_segunda_via_pos_graduacao['data_protocolo'].unique()"
   ]
  },
  {
   "cell_type": "code",
   "execution_count": 7,
   "metadata": {},
   "outputs": [
    {
     "data": {
      "text/plain": [
       "2"
      ]
     },
     "execution_count": 7,
     "metadata": {},
     "output_type": "execute_result"
    }
   ],
   "source": [
    "df_segunda_via_pos_graduacao.dropna(inplace=True)\n",
    "\n",
    "len(df_segunda_via_pos_graduacao['nome_operador'])\n"
   ]
  },
  {
   "cell_type": "code",
   "execution_count": 8,
   "metadata": {},
   "outputs": [
    {
     "data": {
      "text/html": [
       "<div>\n",
       "<style scoped>\n",
       "    .dataframe tbody tr th:only-of-type {\n",
       "        vertical-align: middle;\n",
       "    }\n",
       "\n",
       "    .dataframe tbody tr th {\n",
       "        vertical-align: top;\n",
       "    }\n",
       "\n",
       "    .dataframe thead th {\n",
       "        text-align: right;\n",
       "    }\n",
       "</style>\n",
       "<table border=\"1\" class=\"dataframe\">\n",
       "  <thead>\n",
       "    <tr style=\"text-align: right;\">\n",
       "      <th></th>\n",
       "      <th>nome_operador</th>\n",
       "      <th>status</th>\n",
       "      <th>setor</th>\n",
       "      <th>data_protocolo</th>\n",
       "    </tr>\n",
       "  </thead>\n",
       "  <tbody>\n",
       "    <tr>\n",
       "      <th>1</th>\n",
       "      <td>ANA CRISTINA</td>\n",
       "      <td>PROTOCOLADO</td>\n",
       "      <td>GMCA - Pós-Graduação</td>\n",
       "      <td>2023-10-09</td>\n",
       "    </tr>\n",
       "    <tr>\n",
       "      <th>7</th>\n",
       "      <td>RENATA</td>\n",
       "      <td>PROTOCOLADO</td>\n",
       "      <td>GMCA - Pós-Graduação</td>\n",
       "      <td>2023-10-30</td>\n",
       "    </tr>\n",
       "  </tbody>\n",
       "</table>\n",
       "</div>"
      ],
      "text/plain": [
       "0 nome_operador       status                 setor data_protocolo\n",
       "1  ANA CRISTINA  PROTOCOLADO  GMCA - Pós-Graduação     2023-10-09\n",
       "7        RENATA  PROTOCOLADO  GMCA - Pós-Graduação     2023-10-30"
      ]
     },
     "execution_count": 8,
     "metadata": {},
     "output_type": "execute_result"
    }
   ],
   "source": [
    "df_segunda_via_pos_graduacao"
   ]
  }
 ],
 "metadata": {
  "kernelspec": {
   "display_name": "Python 3",
   "language": "python",
   "name": "python3"
  },
  "language_info": {
   "codemirror_mode": {
    "name": "ipython",
    "version": 3
   },
   "file_extension": ".py",
   "mimetype": "text/x-python",
   "name": "python",
   "nbconvert_exporter": "python",
   "pygments_lexer": "ipython3",
   "version": "3.9.13"
  }
 },
 "nbformat": 4,
 "nbformat_minor": 2
}
